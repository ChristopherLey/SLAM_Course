{
 "cells": [
  {
   "metadata": {
    "ExecuteTime": {
     "end_time": "2024-09-19T19:34:27.247547981Z",
     "start_time": "2024-09-19T19:34:26.877911834Z"
    }
   },
   "cell_type": "code",
   "source": [
    "import sympy as sym"
   ],
   "id": "8b5a825c873665c1",
   "outputs": [],
   "execution_count": 1
  },
  {
   "metadata": {},
   "cell_type": "markdown",
   "source": [
    "# Kalman Filter Primer\n",
    "\n",
    "Components of a Kalman filter:\n",
    "- Matrix $A_t$ is a linear transformation that maps a previous state vector $x_{t-1}$ to the current state $x_t$, $A_t \\in \\mathbb{R}^{n \\times n}$.\n",
    "- Matrix $B_t$ is a linear transformation that maps a control vector $u_t$ to the current state $x_t$, $B_t \\in \\mathbb{R}^{n \\times l}$.\n",
    "- where $n$ is the dimension of the state vector and $l$ is the dimension of the control vector.\n",
    "- Matrix $C_t$ is a linear transformation that maps the state vector $x_t$ to the observation vector $z_t$, $C_t \\in \\mathbb{R}^{k \\times n}$.\n",
    "\n",
    "we can write the state transition function as\n",
    "$$\n",
    "x_t = A_t x_{t-1} + B_t u_t + \\epsilon_t\n",
    "$$\n",
    "where $\\epsilon_t$ is the process noise, it is normally distributed with covariance $R_t$. The observation function is written as\n",
    "$$\n",
    "z_t = C_t x_t + \\delta_t\n",
    "$$\n",
    "where $\\delta_t$ is the observation noise, also normally distributed with covariance $Q_t$. \n",
    "\n",
    "The Kalman filter is a recursive algorithm that estimates the state of a linear dynamic system from a series of noisy observations. The Kalman filter is a linear estimator that minimizes the mean squared error of the estimate. The Kalman filter is a two-step process: prediction and update. In the prediction step, the filter estimates the state of the system at the next time step. In the update step, the filter updates the state estimate based on the new observation. The Kalman filter is optimal in the sense that it minimizes the mean squared error of the estimate.\n",
    "\n",
    "\n",
    "The Kalman Filter algorithm is as follows:\n",
    "\n",
    "0. Initialize the state estimate $x_0$ and the error covariance $\\Sigma_0$ for $t = 0$.\n",
    "1. $\\hat{x}_t = A_t x_{t-1} + B_t u_t$\n",
    "2. $\\hat{\\Sigma_t} = A_t \\Sigma_{t-1} A_t^T + R_t$\n",
    "3. $K_t = \\hat{\\Sigma_t} C_t^T (C_t \\hat{\\Sigma_t} C_t^T + Q_t)^{-1}$\n",
    "4. $x_t = \\hat{x}_t + K_t (z_t - C_t \\hat{x}_t)$\n",
    "5. $\\Sigma_t = (I - K_t C_t) \\hat{\\Sigma_t}$\n",
    "\n"
   ],
   "id": "2f065e349da8c77a"
  },
  {
   "metadata": {},
   "cell_type": "markdown",
   "source": [
    "# Extended Kalman Filter Derivations\n",
    "\n",
    "The Extended Kalman Filter (EKF) is an extension of the Kalman filter that can handle non-linear systems. The EKF linearizes the system dynamics and observation functions around the current state estimate. The EKF uses the linearized models to perform the prediction and update steps of the Kalman filter algorithm. The EKF is an approximation of the true non-linear system, and the quality of the estimate depends on the accuracy of the linearization.\n",
    "\n",
    "## EKF Linearisation: First Order Taylor Expansion\n",
    " - Prediction:\n",
    "$$\n",
    "\\begin{align}\n",
    "g(u_t, x_{t-1}) \\approx& g(u_t, \\hat{x}_{t-1}) + G_t (x_{t-1} - \\hat{x}_{t-1})\\\\\n",
    "G_t =& \\frac{\\partial g(u_t, \\hat{x}_{t-1})}{\\partial x_{t-1}}\n",
    "\\end{align}\n",
    "$$\n",
    " - Correction:\n",
    "$$\n",
    "\\begin{align}\n",
    "h(x_t) \\approx& h(\\hat{x}_t) + H_t (x_t - \\hat{x}_t)\\\\\n",
    "H_t =& \\frac{\\partial h(\\hat{x}_t)}{\\partial x_t}\n",
    "\\end{align}\n",
    "$$\n",
    "where $G_t$ and $H_t$ are the Jacobians of the system dynamics and observation functions, respectively.\n",
    "\n",
    "## EKF Algorithm\n",
    "0. Initialize the state estimate $x_0$ and the error covariance $\\Sigma_0$.\n",
    "1. $\\hat{x}_t = g(u_t, \\hat{x}_{t-1})$\n",
    "2. $\\hat{\\Sigma_t} = G_t \\Sigma_{t-1} G_t^T + R_t$\n",
    "3. $K_t = \\hat{\\Sigma_t} H_t^T (H_t \\hat{\\Sigma_t} H_t^T + Q_t)^{-1}$\n",
    "4. $x_t = \\hat{x}_t + K_t (z_t - h(\\hat{x}_t))$\n",
    "5. $\\Sigma_t = (I - K_t H_t) \\hat{\\Sigma_t}$"
   ],
   "id": "a8720a3b095f1479"
  },
  {
   "metadata": {},
   "cell_type": "markdown",
   "source": [
    "# EKF for SLAM\n",
    "1. State prediction\n",
    "2. Measurement prediction\n",
    "3. Measurement\n",
    "4. Data association\n",
    "5. Update"
   ],
   "id": "3007489686a984e0"
  },
  {
   "metadata": {},
   "cell_type": "markdown",
   "source": [
    "## Applied to real-world problems\n",
    "\n",
    "With a given motion model of \n",
    "$$\n",
    "\\begin{align}\n",
    "x_t &= x_{t-1} + \\delta_{trans} \\cos(\\theta_{t-1} + \\delta_{rot1}) \\\\\n",
    "y_t &= y_{t-1} + \\delta_{trans} \\sin(\\theta_{t-1} + \\delta_{rot1}) \\\\\n",
    "\\theta_t &= \\theta_{t-1} + \\delta_{rot1} + \\delta_{rot2}\n",
    "\\end{align}\n",
    "$$"
   ],
   "id": "34f698c5b830b148"
  },
  {
   "metadata": {
    "ExecuteTime": {
     "end_time": "2024-09-19T19:34:27.296350092Z",
     "start_time": "2024-09-19T19:34:27.251903947Z"
    }
   },
   "cell_type": "code",
   "source": [
    "# Define the symbols\n",
    "x, y, theta, d_trans, d_rot1, d_rot2 = sym.symbols('x y theta d_trans d_rot1 d_rot2')\n",
    "f = sym.Matrix([\n",
    "    x + d_trans*sym.cos(theta + d_rot1),\n",
    "    y + d_trans*sym.sin(theta + d_rot1),\n",
    "    theta + d_rot1 + d_rot2])"
   ],
   "id": "33dd4220ee473bb1",
   "outputs": [],
   "execution_count": 2
  },
  {
   "metadata": {
    "ExecuteTime": {
     "end_time": "2024-09-19T19:34:27.315342649Z",
     "start_time": "2024-09-19T19:34:27.306105040Z"
    }
   },
   "cell_type": "code",
   "source": [
    "f"
   ],
   "id": "773fe3ffddec30b9",
   "outputs": [
    {
     "data": {
      "text/plain": "Matrix([\n[d_trans*cos(d_rot1 + theta) + x],\n[d_trans*sin(d_rot1 + theta) + y],\n[        d_rot1 + d_rot2 + theta]])",
      "text/latex": "$\\displaystyle \\left[\\begin{matrix}d_{trans} \\cos{\\left(d_{rot1} + \\theta \\right)} + x\\\\d_{trans} \\sin{\\left(d_{rot1} + \\theta \\right)} + y\\\\d_{rot1} + d_{rot2} + \\theta\\end{matrix}\\right]$"
     },
     "execution_count": 3,
     "metadata": {},
     "output_type": "execute_result"
    }
   ],
   "execution_count": 3
  },
  {
   "metadata": {
    "ExecuteTime": {
     "end_time": "2024-09-19T19:34:27.335759385Z",
     "start_time": "2024-09-19T19:34:27.311914757Z"
    }
   },
   "cell_type": "code",
   "source": [
    "G = f.jacobian([x, y, theta])"
   ],
   "id": "8acb64a1f2e62c96",
   "outputs": [],
   "execution_count": 4
  },
  {
   "metadata": {
    "ExecuteTime": {
     "end_time": "2024-09-19T19:34:27.336695925Z",
     "start_time": "2024-09-19T19:34:27.325470999Z"
    }
   },
   "cell_type": "code",
   "source": [
    "G"
   ],
   "id": "9c4cfb7c6f06f2dc",
   "outputs": [
    {
     "data": {
      "text/plain": "Matrix([\n[1, 0, -d_trans*sin(d_rot1 + theta)],\n[0, 1,  d_trans*cos(d_rot1 + theta)],\n[0, 0,                            1]])",
      "text/latex": "$\\displaystyle \\left[\\begin{matrix}1 & 0 & - d_{trans} \\sin{\\left(d_{rot1} + \\theta \\right)}\\\\0 & 1 & d_{trans} \\cos{\\left(d_{rot1} + \\theta \\right)}\\\\0 & 0 & 1\\end{matrix}\\right]$"
     },
     "execution_count": 5,
     "metadata": {},
     "output_type": "execute_result"
    }
   ],
   "execution_count": 5
  },
  {
   "cell_type": "markdown",
   "source": [
    "Given a robot position and heading \n",
    "$$\n",
    "\\mu = \\begin{bmatrix}\n",
    "\\mu_{t, x} \\\\\n",
    "\\mu_{t, y} \\\\\n",
    "\\mu_{t, \\theta}\n",
    "\\end{bmatrix}\n",
    "$$\n",
    "we define the homogeneous transformation matrix as\n",
    "$$\n",
    "\\begin{align}\n",
    "T &= \\begin{bmatrix}\n",
    "\\cos(\\mu_{t, \\theta}) & -\\sin(\\mu_{t, \\theta}) & \\mu_{t, x} \\\\\n",
    "\\sin(\\mu_{t, \\theta}) & \\cos(\\mu_{t, \\theta}) & \\mu_{t, y} \\\\\n",
    "0 & 0 & 1\n",
    "\\end{bmatrix}\n",
    "\\end{align}\n",
    "$$\n",
    "and a sensor observation as \n",
    "$$\n",
    "\\begin{align}\n",
    "z_t &= \\begin{bmatrix}\n",
    "r_t * \\cos(\\phi_t) \\\\\n",
    "r_t * \\sin(\\phi_t) \\\\\n",
    "0\n",
    "\\end{bmatrix}\n",
    "\\end{align}\n",
    "$$\n",
    "we obtain the relative end point as"
   ],
   "metadata": {
    "collapsed": false
   },
   "id": "5b4e04fa7dfab32d"
  },
  {
   "cell_type": "code",
   "execution_count": 6,
   "outputs": [
    {
     "data": {
      "text/plain": "Matrix([\n[cos(mu_theta), -sin(mu_theta), mu_x - r*sin(mu_theta)*sin(phi) + r*cos(mu_theta)*cos(phi)],\n[sin(mu_theta),  cos(mu_theta), mu_y + r*sin(mu_theta)*cos(phi) + r*sin(phi)*cos(mu_theta)],\n[            0,              0,                                                          1]])",
      "text/latex": "$\\displaystyle \\left[\\begin{matrix}\\cos{\\left(\\mu_{\\theta} \\right)} & - \\sin{\\left(\\mu_{\\theta} \\right)} & \\mu_{x} - r \\sin{\\left(\\mu_{\\theta} \\right)} \\sin{\\left(\\phi \\right)} + r \\cos{\\left(\\mu_{\\theta} \\right)} \\cos{\\left(\\phi \\right)}\\\\\\sin{\\left(\\mu_{\\theta} \\right)} & \\cos{\\left(\\mu_{\\theta} \\right)} & \\mu_{y} + r \\sin{\\left(\\mu_{\\theta} \\right)} \\cos{\\left(\\phi \\right)} + r \\sin{\\left(\\phi \\right)} \\cos{\\left(\\mu_{\\theta} \\right)}\\\\0 & 0 & 1\\end{matrix}\\right]$"
     },
     "execution_count": 6,
     "metadata": {},
     "output_type": "execute_result"
    }
   ],
   "source": [
    "mu_x, mu_y, mu_theta, r, phi = sym.symbols('mu_x mu_y mu_theta r phi')\n",
    "z = sym.Matrix([\n",
    "    r*sym.cos(phi),\n",
    "    r*sym.sin(phi),\n",
    "    0])\n",
    "T_mu = sym.Matrix([\n",
    "    [sym.cos(mu_theta), -sym.sin(mu_theta), mu_x],\n",
    "    [sym.sin(mu_theta), sym.cos(mu_theta), mu_y],\n",
    "    [0, 0, 1]])\n",
    "T_z = sym.Matrix([\n",
    "    [sym.cos(0), -sym.sin(0), r*sym.cos(phi)],\n",
    "    [sym.sin(0), sym.cos(0), r*sym.sin(phi)],\n",
    "    [0, 0, 1]])\n",
    "T_final = T_mu @ T_z\n",
    "T_final"
   ],
   "metadata": {
    "collapsed": false,
    "ExecuteTime": {
     "end_time": "2024-09-19T19:34:27.389945965Z",
     "start_time": "2024-09-19T19:34:27.342710520Z"
    }
   },
   "id": "f70cdb9304beb87a"
  },
  {
   "cell_type": "code",
   "execution_count": 7,
   "outputs": [
    {
     "data": {
      "text/plain": "Matrix([\n[mu_x + r*cos(mu_theta + phi)],\n[mu_y + r*sin(mu_theta + phi)]])",
      "text/latex": "$\\displaystyle \\left[\\begin{matrix}\\mu_{x} + r \\cos{\\left(\\mu_{\\theta} + \\phi \\right)}\\\\\\mu_{y} + r \\sin{\\left(\\mu_{\\theta} + \\phi \\right)}\\end{matrix}\\right]$"
     },
     "execution_count": 7,
     "metadata": {},
     "output_type": "execute_result"
    }
   ],
   "source": [
    "T_vec = T_final[:2, 2]\n",
    "T_vec.applyfunc(sym.simplify)"
   ],
   "metadata": {
    "collapsed": false,
    "ExecuteTime": {
     "end_time": "2024-09-19T19:34:27.625514518Z",
     "start_time": "2024-09-19T19:34:27.384894644Z"
    }
   },
   "id": "db022fa786283a94"
  },
  {
   "metadata": {},
   "cell_type": "markdown",
   "source": [
    "The observation model is given by (for a range bearing sensor):\n",
    "for an observation $z_{j,t}^i = (r_{t}^i, \\phi_{t}^i)$ of a landmark $i$ at time $t$:\n",
    "$$\n",
    "\\begin{align}\n",
    "\\hat{\\mu}_{j,x} &= \\hat{\\mu}_{t, x} + r_{t}^i \\cos(\\phi_{t}^i + \\hat{\\mu}_{t, \\theta} ) \\\\\n",
    "\\hat{\\mu}_{j,y} &= \\hat{\\mu}_{t, y} + r_{t}^i \\sin(\\phi_{t}^i + \\hat{\\mu}_{t, \\theta}) \\\\\n",
    "\\end{align}\n",
    "$$\n",
    "where $\\hat{\\mu}_{j,x}$ is the observed location of landmark $j$, $\\hat{\\mu}_{t, x}$ is the estimated robot location at time $t$, and the rest is the relative measurement of the landmark $i$ to the robot at time $t$.\n",
    "\n",
    "The expectation of the observation model is then given by:\n",
    "$$\n",
    "\\begin{align}\n",
    "\\delta &= \n",
    "\\begin{bmatrix}\n",
    "\\delta_x\\\\\n",
    "\\delta_y\n",
    "\\end{bmatrix} = \\begin{bmatrix}\n",
    "\\hat{\\mu}_{j,x} - \\hat{\\mu}_{t, x} \\\\\n",
    "\\hat{\\mu}_{j,y} - \\hat{\\mu}_{t, y}\n",
    "\\end{bmatrix} \\\\\n",
    "q &= \\delta^T\\delta \\\\\n",
    "\\hat{z}_t^i &= \\begin{bmatrix}\n",
    "\\sqrt{q} \\\\\n",
    "\\text{atan2}(\\delta_y, \\delta_x) - \\mu_{t,\\theta}\n",
    "\\end{bmatrix}\n",
    "\\end{align}\n",
    "$$\n",
    "\n",
    "The Correction step consists of the following:\n",
    "1. Associate the landmarks with the measurements (or assume known associations for the example)\n",
    "2. Initialise landmarks if unobserved\n",
    "3. Compute the expected observation\n",
    "4. Compute the Jacobian of the observation model\n",
    "5. Compute the Kalman gain"
   ],
   "id": "726eca5a400b5f9c"
  },
  {
   "metadata": {
    "ExecuteTime": {
     "end_time": "2024-09-19T19:34:27.626138193Z",
     "start_time": "2024-09-19T19:34:27.622939571Z"
    }
   },
   "cell_type": "code",
   "source": [
    "# Define the symbols\n",
    "mu_x, mu_y, mu_theta, m_x, m_y = sym.symbols('mu_x mu_y mu_theta m_x m_y')"
   ],
   "id": "fc082f91a846e4e0",
   "outputs": [],
   "execution_count": 8
  },
  {
   "metadata": {
    "ExecuteTime": {
     "end_time": "2024-09-19T19:34:27.667836215Z",
     "start_time": "2024-09-19T19:34:27.632053161Z"
    }
   },
   "cell_type": "code",
   "source": [
    "delta = sym.Matrix([\n",
    "    m_x - mu_x,\n",
    "    m_y - mu_y])\n",
    "h = sym.Matrix([\n",
    "    sym.sqrt(delta[0]**2 + delta[1]**2),\n",
    "    sym.atan2(delta[1], delta[0]) - mu_theta])\n"
   ],
   "id": "dc2ed8b13246aaf9",
   "outputs": [],
   "execution_count": 9
  },
  {
   "metadata": {
    "ExecuteTime": {
     "end_time": "2024-09-19T19:34:27.702319015Z",
     "start_time": "2024-09-19T19:34:27.649077148Z"
    }
   },
   "cell_type": "code",
   "source": [
    "h"
   ],
   "id": "5d27cb3d415f2c0b",
   "outputs": [
    {
     "data": {
      "text/plain": "Matrix([\n[  sqrt((m_x - mu_x)**2 + (m_y - mu_y)**2)],\n[-mu_theta + atan2(m_y - mu_y, m_x - mu_x)]])",
      "text/latex": "$\\displaystyle \\left[\\begin{matrix}\\sqrt{\\left(m_{x} - \\mu_{x}\\right)^{2} + \\left(m_{y} - \\mu_{y}\\right)^{2}}\\\\- \\mu_{\\theta} + \\operatorname{atan}_{2}{\\left(m_{y} - \\mu_{y},m_{x} - \\mu_{x} \\right)}\\end{matrix}\\right]$"
     },
     "execution_count": 10,
     "metadata": {},
     "output_type": "execute_result"
    }
   ],
   "execution_count": 10
  },
  {
   "metadata": {
    "ExecuteTime": {
     "end_time": "2024-09-19T19:34:27.702631809Z",
     "start_time": "2024-09-19T19:34:27.693296363Z"
    }
   },
   "cell_type": "code",
   "source": [
    "H = h.jacobian([mu_x, mu_y, mu_theta, m_x, m_y])"
   ],
   "id": "15f370bdb7bd50f7",
   "outputs": [],
   "execution_count": 11
  },
  {
   "metadata": {
    "ExecuteTime": {
     "end_time": "2024-09-19T19:34:27.724414037Z",
     "start_time": "2024-09-19T19:34:27.705912543Z"
    }
   },
   "cell_type": "code",
   "source": [
    "H"
   ],
   "id": "c31a9658e28ad6f4",
   "outputs": [
    {
     "data": {
      "text/plain": "Matrix([\n[(-m_x + mu_x)/sqrt((m_x - mu_x)**2 + (m_y - mu_y)**2), (-m_y + mu_y)/sqrt((m_x - mu_x)**2 + (m_y - mu_y)**2),  0, (m_x - mu_x)/sqrt((m_x - mu_x)**2 + (m_y - mu_y)**2), (m_y - mu_y)/sqrt((m_x - mu_x)**2 + (m_y - mu_y)**2)],\n[   -(-m_y + mu_y)/((m_x - mu_x)**2 + (m_y - mu_y)**2),     -(m_x - mu_x)/((m_x - mu_x)**2 + (m_y - mu_y)**2), -1,    (-m_y + mu_y)/((m_x - mu_x)**2 + (m_y - mu_y)**2),     (m_x - mu_x)/((m_x - mu_x)**2 + (m_y - mu_y)**2)]])",
      "text/latex": "$\\displaystyle \\left[\\begin{matrix}\\frac{- m_{x} + \\mu_{x}}{\\sqrt{\\left(m_{x} - \\mu_{x}\\right)^{2} + \\left(m_{y} - \\mu_{y}\\right)^{2}}} & \\frac{- m_{y} + \\mu_{y}}{\\sqrt{\\left(m_{x} - \\mu_{x}\\right)^{2} + \\left(m_{y} - \\mu_{y}\\right)^{2}}} & 0 & \\frac{m_{x} - \\mu_{x}}{\\sqrt{\\left(m_{x} - \\mu_{x}\\right)^{2} + \\left(m_{y} - \\mu_{y}\\right)^{2}}} & \\frac{m_{y} - \\mu_{y}}{\\sqrt{\\left(m_{x} - \\mu_{x}\\right)^{2} + \\left(m_{y} - \\mu_{y}\\right)^{2}}}\\\\- \\frac{- m_{y} + \\mu_{y}}{\\left(m_{x} - \\mu_{x}\\right)^{2} + \\left(m_{y} - \\mu_{y}\\right)^{2}} & - \\frac{m_{x} - \\mu_{x}}{\\left(m_{x} - \\mu_{x}\\right)^{2} + \\left(m_{y} - \\mu_{y}\\right)^{2}} & -1 & \\frac{- m_{y} + \\mu_{y}}{\\left(m_{x} - \\mu_{x}\\right)^{2} + \\left(m_{y} - \\mu_{y}\\right)^{2}} & \\frac{m_{x} - \\mu_{x}}{\\left(m_{x} - \\mu_{x}\\right)^{2} + \\left(m_{y} - \\mu_{y}\\right)^{2}}\\end{matrix}\\right]$"
     },
     "execution_count": 12,
     "metadata": {},
     "output_type": "execute_result"
    }
   ],
   "execution_count": 12
  },
  {
   "metadata": {},
   "cell_type": "markdown",
   "source": [
    "which we can simplify the notation to:\n",
    "$$\n",
    "\\begin{align}\n",
    "H_t &= \\frac{1}{q}\\begin{bmatrix}\n",
    "-\\sqrt{q}\\delta_x & -\\sqrt{q}\\delta_y & 0 & \\sqrt{q}\\delta_x & \\sqrt{q}\\delta_y \\\\\n",
    "\\delta_y & -\\delta_x & -q & -\\delta_y & \\delta_x\n",
    "\\end{bmatrix}\n",
    "\\end{align}\n",
    "$$"
   ],
   "id": "db0220f1fae0b0c8"
  }
 ],
 "metadata": {
  "kernelspec": {
   "display_name": "Python 3",
   "language": "python",
   "name": "python3"
  },
  "language_info": {
   "codemirror_mode": {
    "name": "ipython",
    "version": 2
   },
   "file_extension": ".py",
   "mimetype": "text/x-python",
   "name": "python",
   "nbconvert_exporter": "python",
   "pygments_lexer": "ipython2",
   "version": "2.7.6"
  }
 },
 "nbformat": 4,
 "nbformat_minor": 5
}
